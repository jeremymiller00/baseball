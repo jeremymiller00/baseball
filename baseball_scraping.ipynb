{
 "cells": [
  {
   "cell_type": "code",
   "execution_count": 87,
   "metadata": {},
   "outputs": [],
   "source": [
    "import requests\n",
    "from bs4 import BeautifulSoup\n",
    "import wget"
   ]
  },
  {
   "cell_type": "code",
   "execution_count": 4,
   "metadata": {},
   "outputs": [],
   "source": [
    "url = \"https://www.retrosheet.org/game.htm\""
   ]
  },
  {
   "cell_type": "code",
   "execution_count": 5,
   "metadata": {},
   "outputs": [],
   "source": [
    "content = requests.get(url).content"
   ]
  },
  {
   "cell_type": "code",
   "execution_count": 6,
   "metadata": {},
   "outputs": [],
   "source": [
    "soup =  BeautifulSoup(content, 'html.parser')"
   ]
  },
  {
   "cell_type": "code",
   "execution_count": 28,
   "metadata": {},
   "outputs": [],
   "source": [
    "event_links = soup.find_all(\"pre\")[1]"
   ]
  },
  {
   "cell_type": "code",
   "execution_count": 75,
   "metadata": {},
   "outputs": [],
   "source": [
    "links = []\n",
    "for l in event_links.find_all('a'):\n",
    "    links.append(l.get('href'))"
   ]
  },
  {
   "cell_type": "code",
   "execution_count": 85,
   "metadata": {},
   "outputs": [],
   "source": [
    "decade_links = links[98:108]"
   ]
  },
  {
   "cell_type": "code",
   "execution_count": 77,
   "metadata": {},
   "outputs": [
    {
     "data": {
      "text/plain": [
       "['https://www.retrosheet.org/events/1940seve.zip',\n",
       " 'https://www.retrosheet.org/events/1950seve.zip',\n",
       " 'https://www.retrosheet.org/events/1960seve.zip',\n",
       " 'https://www.retrosheet.org/events/1970seve.zip',\n",
       " 'https://www.retrosheet.org/events/1980seve.zip',\n",
       " 'https://www.retrosheet.org/events/1990seve.zip',\n",
       " 'https://www.retrosheet.org/events/2000seve.zip',\n",
       " 'https://www.retrosheet.org/events/2010seve.zip',\n",
       " 'https://www.retrosheet.org/game.htm#Top']"
      ]
     },
     "execution_count": 77,
     "metadata": {},
     "output_type": "execute_result"
    }
   ],
   "source": [
    "for link in decade_links"
   ]
  },
  {
   "cell_type": "code",
   "execution_count": 105,
   "metadata": {},
   "outputs": [
    {
     "name": "stdout",
     "output_type": "stream",
     "text": [
      "1920seve.zip                        DataScienceBaseball.py\n",
      "2014 SF Giants Batting.ipynb        Untitled.ipynb\n",
      "2014 SF Giants Batting.py           baseball_scraping.ipynb\n",
      "2014SFGiantsBattingData.csv         \u001b[1m\u001b[34mdata\u001b[m\u001b[m/\n",
      "2014SFGiantsBattingDataEdited.csv   game 1.htm\n",
      "2014SFGiantsBattingTeamTotals .csv  game.htm\n"
     ]
    }
   ],
   "source": [
    "ls"
   ]
  },
  {
   "cell_type": "code",
   "execution_count": 106,
   "metadata": {},
   "outputs": [],
   "source": [
    "decade = 1920\n",
    "for link in decade_links:\n",
    "    name = str(decade)\n",
    "    filename = \".\".join([name, \"zip\"])\n",
    "    filepath = \"\".join([\"data/retrosheet_data/\", filename])\n",
    "    filepath = wget.download(link)\n",
    "    decade += 10"
   ]
  },
  {
   "cell_type": "code",
   "execution_count": 103,
   "metadata": {},
   "outputs": [
    {
     "name": "stdout",
     "output_type": "stream",
     "text": [
      "2014 SF Giants Batting.ipynb        Untitled.ipynb\n",
      "2014 SF Giants Batting.py           baseball_scraping.ipynb\n",
      "2014SFGiantsBattingData.csv         \u001b[1m\u001b[34mdata\u001b[m\u001b[m/\n",
      "2014SFGiantsBattingDataEdited.csv   game 1.htm\n",
      "2014SFGiantsBattingTeamTotals .csv  game.htm\n",
      "DataScienceBaseball.py\n"
     ]
    }
   ],
   "source": [
    "ls "
   ]
  },
  {
   "cell_type": "code",
   "execution_count": 94,
   "metadata": {},
   "outputs": [
    {
     "data": {
      "text/plain": [
       "'data/retrosheet_data/.1920.zip'"
      ]
     },
     "execution_count": 94,
     "metadata": {},
     "output_type": "execute_result"
    }
   ],
   "source": [
    "\".\".join([\"data/retrosheet_data/\", name, \"zip\"])"
   ]
  },
  {
   "cell_type": "code",
   "execution_count": null,
   "metadata": {},
   "outputs": [],
   "source": []
  }
 ],
 "metadata": {
  "kernelspec": {
   "display_name": "Python 3",
   "language": "python",
   "name": "python3"
  },
  "language_info": {
   "codemirror_mode": {
    "name": "ipython",
    "version": 3
   },
   "file_extension": ".py",
   "mimetype": "text/x-python",
   "name": "python",
   "nbconvert_exporter": "python",
   "pygments_lexer": "ipython3",
   "version": "3.6.8"
  }
 },
 "nbformat": 4,
 "nbformat_minor": 2
}
