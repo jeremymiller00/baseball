{
 "cells": [
  {
   "cell_type": "code",
   "execution_count": 1,
   "metadata": {},
   "outputs": [],
   "source": [
    "import matplotlib.pyplot as plt\n",
    "import seaborn as sns\n",
    "from pymongo import MongoClient\n",
    "from bson import Code"
   ]
  },
  {
   "cell_type": "code",
   "execution_count": 2,
   "metadata": {},
   "outputs": [],
   "source": [
    "def find_all_keys(collection):\n",
    "    def find_keys_in_doc(doc):\n",
    "        found_keys = []\n",
    "        append = found_keys.append\n",
    "\n",
    "        for k,v in doc.items():\n",
    "            if type(v) is dict:\n",
    "                found_keys += find_keys_in_doc(v)\n",
    "            else:\n",
    "                append(k)\n",
    "\n",
    "        return found_keys\n",
    "\n",
    "    all_keys = []\n",
    "\n",
    "    for doc in collection:\n",
    "        all_keys += find_keys_in_doc(doc)\n",
    "\n",
    "    return sorted(set(all_keys))"
   ]
  },
  {
   "cell_type": "code",
   "execution_count": 3,
   "metadata": {},
   "outputs": [],
   "source": [
    "client = MongoClient('localhost', 27018)\n",
    "db = client['retrosheet']\n",
    "# table = db['testcoll']"
   ]
  },
  {
   "cell_type": "code",
   "execution_count": 4,
   "metadata": {},
   "outputs": [],
   "source": [
    "collections = db.list_collection_names()"
   ]
  },
  {
   "cell_type": "code",
   "execution_count": 5,
   "metadata": {},
   "outputs": [],
   "source": [
    "bos2018 = list(db.c_2018BOS.find())"
   ]
  },
  {
   "cell_type": "code",
   "execution_count": 6,
   "metadata": {},
   "outputs": [],
   "source": [
    "k = set([])\n",
    "for entry in bos2018:\n",
    "    k.update(entry.keys())"
   ]
  },
  {
   "cell_type": "markdown",
   "metadata": {},
   "source": [
    "What goes in my dataframe:\n",
    "What does each row represent? One Game\n",
    "What are the feaures of a game?\n",
    "game_id, date, number, daynight, usedh, umphome, ump1b, ump2b, ump3b, temp, winddr, windspeed, sky, visteam, hometeam, site, timeofgame, attendance  "
   ]
  },
  {
   "cell_type": "code",
   "execution_count": 9,
   "metadata": {},
   "outputs": [],
   "source": [
    "game_meta_cols = [\"game_id\", \"date\", \"number\", \"daynight\", \"usedh\", \"umphome\", \n",
    "                  \"ump1b\", \"ump2b\", \"ump3b\", \"temp\", \"winddr\", \"windspeed\",\n",
    "                  \"sky\", \"visteam\", \"hometeam\", \"site\", \"timeofgame\",\n",
    "                  \"attendance\"]"
   ]
  },
  {
   "cell_type": "code",
   "execution_count": 21,
   "metadata": {},
   "outputs": [],
   "source": [
    "info_keys = set([])\n",
    "for e in list(db['c_2018BOS'].find({\"entry_type\": \"info\"})):\n",
    "    info_keys.update(e.keys())"
   ]
  },
  {
   "cell_type": "markdown",
   "metadata": {},
   "source": [
    "DF from dict:\n",
    "Only keep where entry type == info\n"
   ]
  },
  {
   "cell_type": "code",
   "execution_count": 37,
   "metadata": {},
   "outputs": [],
   "source": [
    "bos_info = list(db['c_2018BOS'].find({\"entry_type\": \"info\"}))"
   ]
  },
  {
   "cell_type": "markdown",
   "metadata": {},
   "source": [
    "# split by game: List -> List -> game_dict"
   ]
  },
  {
   "cell_type": "code",
   "execution_count": 51,
   "metadata": {},
   "outputs": [],
   "source": [
    "game_ids = []\n",
    "for item in bos_info:\n",
    "#     print(item['game_id'])\n",
    "    game_ids.append(item['game_id'])\n",
    "game_ids = set(game_ids)"
   ]
  },
  {
   "cell_type": "code",
   "execution_count": 54,
   "metadata": {},
   "outputs": [],
   "source": [
    "# for compressing a into single game\n",
    "grouped_by_game = []\n",
    "for id in game_ids:\n",
    "    game = {}\n",
    "    for item in bos_info:\n",
    "        if item[\"game_id\"] == id:\n",
    "            game.update(item)\n",
    "    grouped_by_game.append(game)"
   ]
  },
  {
   "cell_type": "code",
   "execution_count": 56,
   "metadata": {},
   "outputs": [
    {
     "data": {
      "text/plain": [
       "81"
      ]
     },
     "execution_count": 56,
     "metadata": {},
     "output_type": "execute_result"
    }
   ],
   "source": [
    "len(grouped_by_game)"
   ]
  },
  {
   "cell_type": "code",
   "execution_count": null,
   "metadata": {},
   "outputs": [],
   "source": []
  }
 ],
 "metadata": {
  "kernelspec": {
   "display_name": "Python 3",
   "language": "python",
   "name": "python3"
  },
  "language_info": {
   "codemirror_mode": {
    "name": "ipython",
    "version": 3
   },
   "file_extension": ".py",
   "mimetype": "text/x-python",
   "name": "python",
   "nbconvert_exporter": "python",
   "pygments_lexer": "ipython3",
   "version": "3.6.7"
  }
 },
 "nbformat": 4,
 "nbformat_minor": 2
}
