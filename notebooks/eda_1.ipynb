{
 "cells": [
  {
   "cell_type": "code",
   "execution_count": 13,
   "metadata": {},
   "outputs": [],
   "source": [
    "import matplotlib.pyplot as plt\n",
    "import seaborn as sns\n",
    "from pymongo import MongoClient\n",
    "from bson import Code"
   ]
  },
  {
   "cell_type": "code",
   "execution_count": 20,
   "metadata": {},
   "outputs": [],
   "source": [
    "def find_all_keys(collection):\n",
    "    def find_keys_in_doc(doc):\n",
    "        found_keys = []\n",
    "        append = found_keys.append\n",
    "\n",
    "        for k,v in doc.items():\n",
    "            if type(v) is dict:\n",
    "                found_keys += find_keys_in_doc(v)\n",
    "            else:\n",
    "                append(k)\n",
    "\n",
    "        return found_keys\n",
    "\n",
    "    all_keys = []\n",
    "\n",
    "    for doc in collection:\n",
    "        all_keys += find_keys_in_doc(doc)\n",
    "\n",
    "    return sorted(set(all_keys))"
   ]
  },
  {
   "cell_type": "code",
   "execution_count": 21,
   "metadata": {},
   "outputs": [],
   "source": [
    "client = MongoClient('localhost', 27018)\n",
    "db = client['retrosheet']\n",
    "# table = db['testcoll']"
   ]
  },
  {
   "cell_type": "code",
   "execution_count": 22,
   "metadata": {},
   "outputs": [],
   "source": [
    "collections = db.list_collection_names()"
   ]
  },
  {
   "cell_type": "code",
   "execution_count": 33,
   "metadata": {},
   "outputs": [],
   "source": [
    "bos2018 = list(db.c_2018BOS.find())"
   ]
  },
  {
   "cell_type": "code",
   "execution_count": 36,
   "metadata": {},
   "outputs": [],
   "source": [
    "k = set([])\n",
    "for entry in bos2018:\n",
    "    k.update(entry.keys())"
   ]
  },
  {
   "cell_type": "code",
   "execution_count": 37,
   "metadata": {},
   "outputs": [
    {
     "data": {
      "text/plain": [
       "{'_id',\n",
       " 'attendance',\n",
       " 'batting_order',\n",
       " 'bottom',\n",
       " 'comment',\n",
       " 'count',\n",
       " 'date',\n",
       " 'daynight',\n",
       " 'entry_type',\n",
       " 'event',\n",
       " 'fieldcond',\n",
       " 'game_id',\n",
       " 'home_team',\n",
       " 'hometeam',\n",
       " 'howscored',\n",
       " 'inning',\n",
       " 'lp',\n",
       " 'name',\n",
       " 'number',\n",
       " 'oscorer',\n",
       " 'pitches',\n",
       " 'player_id',\n",
       " 'position',\n",
       " 'precip',\n",
       " 'save',\n",
       " 'site',\n",
       " 'sky',\n",
       " 'starttime',\n",
       " 'temp',\n",
       " 'timeofgame',\n",
       " 'ump1b',\n",
       " 'ump2b',\n",
       " 'ump3b',\n",
       " 'umphome',\n",
       " 'usedh',\n",
       " 'visteam',\n",
       " 'winddir',\n",
       " 'windspeed',\n",
       " 'wp'}"
      ]
     },
     "execution_count": 37,
     "metadata": {},
     "output_type": "execute_result"
    }
   ],
   "source": [
    "k"
   ]
  },
  {
   "cell_type": "code",
   "execution_count": null,
   "metadata": {},
   "outputs": [],
   "source": []
  }
 ],
 "metadata": {
  "kernelspec": {
   "display_name": "Python 3",
   "language": "python",
   "name": "python3"
  },
  "language_info": {
   "codemirror_mode": {
    "name": "ipython",
    "version": 3
   },
   "file_extension": ".py",
   "mimetype": "text/x-python",
   "name": "python",
   "nbconvert_exporter": "python",
   "pygments_lexer": "ipython3",
   "version": "3.6.7"
  }
 },
 "nbformat": 4,
 "nbformat_minor": 2
}
